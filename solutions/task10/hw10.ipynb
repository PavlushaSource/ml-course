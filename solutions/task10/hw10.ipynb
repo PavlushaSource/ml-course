{
  "nbformat": 4,
  "nbformat_minor": 0,
  "metadata": {
    "colab": {
      "provenance": []
    },
    "kernelspec": {
      "name": "python3",
      "display_name": "Python 3"
    },
    "language_info": {
      "name": "python"
    }
  },
  "cells": [
    {
      "cell_type": "markdown",
      "source": [
        "# Graph Convolutional Network"
      ],
      "metadata": {
        "id": "phI6Mo5eia1Q"
      }
    },
    {
      "cell_type": "code",
      "source": [
        "!pip install torch torch-geometric matplotlib scikit-learn"
      ],
      "metadata": {
        "id": "VSRWM7Qb-IrD"
      },
      "execution_count": null,
      "outputs": []
    },
    {
      "cell_type": "code",
      "execution_count": 42,
      "metadata": {
        "id": "_ZWTGSCLhggv"
      },
      "outputs": [],
      "source": [
        "import torch\n",
        "import torch.nn as nn\n",
        "import torch.nn.functional as F\n",
        "from torch_geometric.datasets import Planetoid\n",
        "from torch_geometric.transforms import NormalizeFeatures\n",
        "from torch_geometric.nn import GCNConv\n",
        "from torch_geometric.utils import add_self_loops, degree"
      ]
    },
    {
      "cell_type": "markdown",
      "source": [
        "Для решения задачи, возьмем датасет CiteSeer"
      ],
      "metadata": {
        "id": "oNPbOQO3mds4"
      }
    },
    {
      "cell_type": "code",
      "source": [
        "torch.manual_seed(42)"
      ],
      "metadata": {
        "id": "DTTmdmfmHSej"
      },
      "execution_count": null,
      "outputs": []
    },
    {
      "cell_type": "code",
      "source": [
        "dataset = Planetoid(root='dataset/CiteSeer', name='CiteSeer', transform=NormalizeFeatures())"
      ],
      "metadata": {
        "id": "RCWgOyOP-IQx"
      },
      "execution_count": 34,
      "outputs": []
    },
    {
      "cell_type": "code",
      "source": [
        "data = dataset[0]"
      ],
      "metadata": {
        "id": "YDQdhB1cIkla"
      },
      "execution_count": 35,
      "outputs": []
    },
    {
      "cell_type": "code",
      "source": [
        "dataset.num_features, dataset.num_classes"
      ],
      "metadata": {
        "colab": {
          "base_uri": "https://localhost:8080/"
        },
        "id": "X151NdCmmpXG",
        "outputId": "f386b982-4a8f-47be-a75d-a8c68aa1d821"
      },
      "execution_count": 46,
      "outputs": [
        {
          "output_type": "execute_result",
          "data": {
            "text/plain": [
              "(3703, 6)"
            ]
          },
          "metadata": {},
          "execution_count": 46
        }
      ]
    },
    {
      "cell_type": "markdown",
      "source": [
        "Построим GCN модель с помощью слоев GCNConv из библиотеки PyG"
      ],
      "metadata": {
        "id": "BjmO3PwuchBa"
      }
    },
    {
      "cell_type": "code",
      "source": [
        "class GCN(torch.nn.Module):\n",
        "    def __init__(self, hidden_dim, input_dim, output_dim, dropout=0.5):\n",
        "        super().__init__()\n",
        "        self.conv1 = GCNConv(input_dim, hidden_dim)\n",
        "        self.conv2 = GCNConv(hidden_dim, hidden_dim)\n",
        "        self.conv3 = GCNConv(hidden_dim, hidden_dim)\n",
        "        self.conv4 = GCNConv(hidden_dim, output_dim)\n",
        "\n",
        "        self.dropout = dropout\n",
        "\n",
        "    def forward(self, x, edge_index):\n",
        "        x = self.conv1(x, edge_index).relu()\n",
        "        x = F.dropout(x, p=self.dropout)\n",
        "\n",
        "        x = self.conv2(x, edge_index).relu()\n",
        "        x = F.dropout(x, p=self.dropout)\n",
        "\n",
        "        x = self.conv3(x, edge_index).relu()\n",
        "        x = F.dropout(x, p=self.dropout)\n",
        "\n",
        "        x = self.conv4(x, edge_index)\n",
        "        return x"
      ],
      "metadata": {
        "id": "zMRiBRVfDUIZ"
      },
      "execution_count": 36,
      "outputs": []
    },
    {
      "cell_type": "code",
      "source": [
        "def train(model, data, optimizer):\n",
        "    model.train()\n",
        "    optimizer.zero_grad()\n",
        "    out = model(data.x, data.edge_index)\n",
        "    loss = F.cross_entropy(out[data.train_mask], data.y[data.train_mask])\n",
        "    loss.backward()\n",
        "    optimizer.step()\n",
        "    return loss.item()\n",
        "\n",
        "@torch.no_grad()\n",
        "def evaluate(model, data, mask):\n",
        "    model.eval()\n",
        "    out = model(data.x, data.edge_index)\n",
        "    pred = out.argmax(dim=1)\n",
        "    correct = (pred[mask] == data.y[mask]).float().sum()\n",
        "    accuracy = correct / mask.sum()\n",
        "    return accuracy.item()"
      ],
      "metadata": {
        "id": "G23nDiNeEGqZ"
      },
      "execution_count": 37,
      "outputs": []
    },
    {
      "cell_type": "code",
      "source": [
        "model = GCN(input_dim=data.num_node_features,\n",
        "            hidden_dim=16,\n",
        "            output_dim=dataset.num_classes)\n",
        "\n",
        "optimizer = torch.optim.Adam(model.parameters(), lr=0.01, weight_decay=5e-4)"
      ],
      "metadata": {
        "id": "9oBX-V9iExJv"
      },
      "execution_count": 38,
      "outputs": []
    },
    {
      "cell_type": "code",
      "source": [
        "for epoch in range(300):\n",
        "    train_loss = train(model, data, optimizer)\n",
        "    if epoch % 20 == 0:\n",
        "        val_acc = evaluate(model, data, data.val_mask)\n",
        "        print(f'Epoch: {epoch:03d}, Loss: {train_loss:.4f}, Val Acc: {val_acc:.4f}')\n",
        "\n",
        "test_acc = evaluate(model, data, data.test_mask)\n",
        "print(f'Final Test Accuracy: {test_acc:.4f}')"
      ],
      "metadata": {
        "colab": {
          "base_uri": "https://localhost:8080/"
        },
        "id": "QtgWCiVCE4Us",
        "outputId": "559d1d80-b65f-41c2-8865-7d668e9fffcd"
      },
      "execution_count": 39,
      "outputs": [
        {
          "output_type": "stream",
          "name": "stdout",
          "text": [
            "Epoch: 000, Loss: 1.7916, Val Acc: 0.2480\n",
            "Epoch: 020, Loss: 1.5815, Val Acc: 0.3000\n",
            "Epoch: 040, Loss: 0.8672, Val Acc: 0.4060\n",
            "Epoch: 060, Loss: 0.6519, Val Acc: 0.4460\n",
            "Epoch: 080, Loss: 0.4870, Val Acc: 0.4660\n",
            "Epoch: 100, Loss: 0.3787, Val Acc: 0.5340\n",
            "Epoch: 120, Loss: 0.4227, Val Acc: 0.5040\n",
            "Epoch: 140, Loss: 0.3468, Val Acc: 0.5180\n",
            "Epoch: 160, Loss: 0.4290, Val Acc: 0.5440\n",
            "Epoch: 180, Loss: 0.2484, Val Acc: 0.5660\n",
            "Epoch: 200, Loss: 0.2077, Val Acc: 0.5660\n",
            "Epoch: 220, Loss: 0.2233, Val Acc: 0.5780\n",
            "Epoch: 240, Loss: 0.3789, Val Acc: 0.5780\n",
            "Epoch: 260, Loss: 0.2427, Val Acc: 0.5560\n",
            "Epoch: 280, Loss: 0.1537, Val Acc: 0.5500\n",
            "Final Test Accuracy: 0.5410\n"
          ]
        }
      ]
    },
    {
      "cell_type": "markdown",
      "source": [
        "При изначальных гиперпараметрах `lr=0.01, hidden_dim=16, dropout=0.5 ` самый большой accuracy вышел 0.578"
      ],
      "metadata": {
        "id": "QERKueA6HkGv"
      }
    },
    {
      "cell_type": "markdown",
      "source": [
        "Теперь подберем гиперпараметры и попытаемся получить accuracy повыше"
      ],
      "metadata": {
        "id": "SfrTbsC7InKm"
      }
    },
    {
      "cell_type": "code",
      "source": [
        "hidden_dim = [16, 32, 64]\n",
        "lrs = [0.01, 0.001, 0.0001]\n",
        "dropouts = [0.3, 0.5, 0.7]"
      ],
      "metadata": {
        "id": "9ldsyV-1IwNt"
      },
      "execution_count": 40,
      "outputs": []
    },
    {
      "cell_type": "code",
      "source": [
        "best_acc = 0\n",
        "best_hidden = 0\n",
        "best_lr = 0\n",
        "best_dropout = 0\n",
        "\n",
        "for hidden in hidden_dim:\n",
        "    for lr in lrs:\n",
        "      for dr in dropouts:\n",
        "          model = GCN(input_dim=data.num_node_features,\n",
        "                      hidden_dim=hidden,\n",
        "                      output_dim=dataset.num_classes,\n",
        "                      dropout=dr\n",
        "                      )\n",
        "          optimizer = torch.optim.Adam(model.parameters(), lr=lr, weight_decay=5e-4)\n",
        "\n",
        "          for epoch in range(200):\n",
        "              train(model, data, optimizer)\n",
        "\n",
        "          acc = evaluate(model, data, data.val_mask)\n",
        "\n",
        "          print(f\"{acc}: hidden {hidden}, lr {lr}, dropout {dr}\")\n",
        "\n",
        "          if acc > best_acc:\n",
        "              best_acc = acc\n",
        "              best_hidden = hidden\n",
        "              best_lr = lr\n",
        "              best_dropout = dr\n",
        "\n",
        "print(f\"Best accuracy {best_acc:.4f} with hidden_dim: {best_hidden}, lr: {best_lr}, dropout: {best_dropout}\")"
      ],
      "metadata": {
        "colab": {
          "base_uri": "https://localhost:8080/"
        },
        "id": "vUCAUohNJJ3-",
        "outputId": "49825384-be8f-4319-f6eb-25bad0534792"
      },
      "execution_count": 41,
      "outputs": [
        {
          "output_type": "stream",
          "name": "stdout",
          "text": [
            "0.5419999957084656: hidden 16, lr 0.01, dropout 0.3\n",
            "0.5559999942779541: hidden 16, lr 0.01, dropout 0.5\n",
            "0.39399999380111694: hidden 16, lr 0.01, dropout 0.7\n",
            "0.5360000133514404: hidden 16, lr 0.001, dropout 0.3\n",
            "0.35600000619888306: hidden 16, lr 0.001, dropout 0.5\n",
            "0.32600000500679016: hidden 16, lr 0.001, dropout 0.7\n",
            "0.3799999952316284: hidden 16, lr 0.0001, dropout 0.3\n",
            "0.29600000381469727: hidden 16, lr 0.0001, dropout 0.5\n",
            "0.24400000274181366: hidden 16, lr 0.0001, dropout 0.7\n",
            "0.5899999737739563: hidden 32, lr 0.01, dropout 0.3\n",
            "0.5460000038146973: hidden 32, lr 0.01, dropout 0.5\n",
            "0.550000011920929: hidden 32, lr 0.01, dropout 0.7\n",
            "0.5680000185966492: hidden 32, lr 0.001, dropout 0.3\n",
            "0.4480000138282776: hidden 32, lr 0.001, dropout 0.5\n",
            "0.4580000042915344: hidden 32, lr 0.001, dropout 0.7\n",
            "0.4560000002384186: hidden 32, lr 0.0001, dropout 0.3\n",
            "0.35199999809265137: hidden 32, lr 0.0001, dropout 0.5\n",
            "0.28600001335144043: hidden 32, lr 0.0001, dropout 0.7\n",
            "0.5419999957084656: hidden 64, lr 0.01, dropout 0.3\n",
            "0.5799999833106995: hidden 64, lr 0.01, dropout 0.5\n",
            "0.5820000171661377: hidden 64, lr 0.01, dropout 0.7\n",
            "0.5680000185966492: hidden 64, lr 0.001, dropout 0.3\n",
            "0.6079999804496765: hidden 64, lr 0.001, dropout 0.5\n",
            "0.5559999942779541: hidden 64, lr 0.001, dropout 0.7\n",
            "0.4659999907016754: hidden 64, lr 0.0001, dropout 0.3\n",
            "0.3919999897480011: hidden 64, lr 0.0001, dropout 0.5\n",
            "0.335999995470047: hidden 64, lr 0.0001, dropout 0.7\n",
            "Best accuracy 0.6080 with hidden_dim: 64, lr: 0.001, dropout: 0.5\n"
          ]
        }
      ]
    },
    {
      "cell_type": "markdown",
      "source": [
        "В итоге самый лучший результат (Accuracy 0.6080) вышел с набором гиперпараметров `hidden_dim: 64, lr: 0.001, dropout: 0.5`"
      ],
      "metadata": {
        "id": "btDyJTfXctH6"
      }
    },
    {
      "cell_type": "markdown",
      "source": [
        "Сделаем свою реализацию GCNConv слоев (используя матричные операции), чтобы построить новую GCN-модель"
      ],
      "metadata": {
        "id": "xIYWeHXtfHXx"
      }
    },
    {
      "cell_type": "code",
      "source": [
        "class NewGCNConv(nn.Module):\n",
        "    def __init__(self, input_dim, output_dim):\n",
        "        super().__init__()\n",
        "        self.lin = torch.nn.Linear(input_dim, output_dim, bias=False)\n",
        "        self.bias = nn.Parameter(torch.zeros(output_dim))\n",
        "        self.reset_parameters()\n",
        "\n",
        "    def reset_parameters(self):\n",
        "        self.lin.reset_parameters()\n",
        "        nn.init.zeros_(self.bias)\n",
        "\n",
        "    def forward(self, x, edge_index):\n",
        "        x = self.lin(x)\n",
        "\n",
        "        num_nodes=x.size(0)\n",
        "        edge_index, _ = add_self_loops(edge_index, num_nodes)\n",
        "        row, col = edge_index\n",
        "        deg = degree(row, num_nodes, dtype=x.dtype)\n",
        "        deg_inv_sqrt = deg.pow(-0.5)\n",
        "        deg_inv_sqrt[deg_inv_sqrt == float('inf')] = 0\n",
        "        norm = deg_inv_sqrt[row] * deg_inv_sqrt[col]\n",
        "\n",
        "        adj = torch.sparse_coo_tensor(\n",
        "            edge_index,\n",
        "            norm,\n",
        "            (num_nodes, num_nodes)\n",
        "        )\n",
        "        x = torch.sparse.mm(adj, x)\n",
        "\n",
        "        return x + self.bias"
      ],
      "metadata": {
        "id": "EjGn6_WyfifZ"
      },
      "execution_count": 43,
      "outputs": []
    },
    {
      "cell_type": "code",
      "source": [
        "class NewGCN(torch.nn.Module):\n",
        "    def __init__(self, hidden_dim, input_dim, output_dim, dropout):\n",
        "        super().__init__()\n",
        "        self.conv1 = GCNConv(input_dim, hidden_dim)\n",
        "        self.conv2 = GCNConv(hidden_dim, hidden_dim)\n",
        "        self.conv3 = GCNConv(hidden_dim, hidden_dim)\n",
        "        self.conv4 = GCNConv(hidden_dim, output_dim)\n",
        "        self.dropout = dropout\n",
        "\n",
        "    def forward(self, x, edge_index):\n",
        "        x = self.conv1(x, edge_index).relu()\n",
        "        x = F.dropout(x, p=self.dropout)\n",
        "\n",
        "        x = self.conv2(x, edge_index).relu()\n",
        "        x = F.dropout(x, p=self.dropout)\n",
        "\n",
        "        x = self.conv3(x, edge_index).relu()\n",
        "        x = F.dropout(x, p=self.dropout)\n",
        "\n",
        "        x = self.conv4(x, edge_index)\n",
        "        return x"
      ],
      "metadata": {
        "id": "FF9rk2f8htK4"
      },
      "execution_count": 44,
      "outputs": []
    },
    {
      "cell_type": "markdown",
      "source": [
        "Подберем гиперпараметры для новой реализации"
      ],
      "metadata": {
        "id": "ulgqT6hJh5oN"
      }
    },
    {
      "cell_type": "code",
      "source": [
        "best_acc = 0\n",
        "best_hidden = 0\n",
        "best_lr = 0\n",
        "best_dropout = 0\n",
        "\n",
        "for hidden in hidden_dim:\n",
        "    for lr in lrs:\n",
        "      for dr in dropouts:\n",
        "          model = NewGCN(input_dim=data.num_node_features,\n",
        "                         hidden_dim=hidden,\n",
        "                         output_dim=dataset.num_classes,\n",
        "                         dropout=dr\n",
        "                      )\n",
        "          optimizer = torch.optim.Adam(model.parameters(), lr=lr, weight_decay=5e-4)\n",
        "\n",
        "          for epoch in range(200):\n",
        "              train(model, data, optimizer)\n",
        "\n",
        "          acc = evaluate(model, data, data.val_mask)\n",
        "\n",
        "          print(f\"{acc}: hidden {hidden}, lr {lr}, dropout {dr}\")\n",
        "\n",
        "          if acc > best_acc:\n",
        "              best_acc = acc\n",
        "              best_hidden = hidden\n",
        "              best_lr = lr\n",
        "              best_dropout = dr\n",
        "\n",
        "print(f\"Best accuracy {best_acc:.4f} with hidden_dim: {best_hidden}, lr: {best_lr}, dropout: {best_dropout}\")"
      ],
      "metadata": {
        "colab": {
          "base_uri": "https://localhost:8080/"
        },
        "id": "c_cAO6_niAv3",
        "outputId": "8dda6e16-abef-49a0-c876-d6c692738cc3"
      },
      "execution_count": 45,
      "outputs": [
        {
          "output_type": "stream",
          "name": "stdout",
          "text": [
            "0.527999997138977: hidden 16, lr 0.01, dropout 0.3\n",
            "0.5099999904632568: hidden 16, lr 0.01, dropout 0.5\n",
            "0.36000001430511475: hidden 16, lr 0.01, dropout 0.7\n",
            "0.4699999988079071: hidden 16, lr 0.001, dropout 0.3\n",
            "0.35600000619888306: hidden 16, lr 0.001, dropout 0.5\n",
            "0.39399999380111694: hidden 16, lr 0.001, dropout 0.7\n",
            "0.30000001192092896: hidden 16, lr 0.0001, dropout 0.3\n",
            "0.31200000643730164: hidden 16, lr 0.0001, dropout 0.5\n",
            "0.20600000023841858: hidden 16, lr 0.0001, dropout 0.7\n",
            "0.6060000061988831: hidden 32, lr 0.01, dropout 0.3\n",
            "0.6019999980926514: hidden 32, lr 0.01, dropout 0.5\n",
            "0.515999972820282: hidden 32, lr 0.01, dropout 0.7\n",
            "0.593999981880188: hidden 32, lr 0.001, dropout 0.3\n",
            "0.5600000023841858: hidden 32, lr 0.001, dropout 0.5\n",
            "0.5419999957084656: hidden 32, lr 0.001, dropout 0.7\n",
            "0.38999998569488525: hidden 32, lr 0.0001, dropout 0.3\n",
            "0.35199999809265137: hidden 32, lr 0.0001, dropout 0.5\n",
            "0.2680000066757202: hidden 32, lr 0.0001, dropout 0.7\n",
            "0.6359999775886536: hidden 64, lr 0.01, dropout 0.3\n",
            "0.5720000267028809: hidden 64, lr 0.01, dropout 0.5\n",
            "0.5360000133514404: hidden 64, lr 0.01, dropout 0.7\n",
            "0.5879999995231628: hidden 64, lr 0.001, dropout 0.3\n",
            "0.5920000076293945: hidden 64, lr 0.001, dropout 0.5\n",
            "0.593999981880188: hidden 64, lr 0.001, dropout 0.7\n",
            "0.40799999237060547: hidden 64, lr 0.0001, dropout 0.3\n",
            "0.4580000042915344: hidden 64, lr 0.0001, dropout 0.5\n",
            "0.3319999873638153: hidden 64, lr 0.0001, dropout 0.7\n",
            "Best accuracy 0.6360 with hidden_dim: 64, lr: 0.01, dropout: 0.3\n"
          ]
        }
      ]
    },
    {
      "cell_type": "markdown",
      "source": [
        "В NewGCN получили даже лучше Accuracy 0.6360 с гиперпараметрами `hidden_dim: 64, lr: 0.01, dropout: 0.3`, чем у обычного GCN"
      ],
      "metadata": {
        "id": "2ZU3QP9cktxl"
      }
    },
    {
      "cell_type": "markdown",
      "source": [
        "В целом у GCN (слои из PyG) и MyGCN (слои сделали самостоятельно) получились довольно схожие результаты, что может говорить о правильности нашей реализации GCN-слоя"
      ],
      "metadata": {
        "id": "tZO9qqoxlEs-"
      }
    }
  ]
}