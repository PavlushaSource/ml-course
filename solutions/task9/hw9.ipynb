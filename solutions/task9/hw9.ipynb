{
  "nbformat": 4,
  "nbformat_minor": 0,
  "metadata": {
    "colab": {
      "provenance": [],
      "toc_visible": true,
      "gpuType": "T4",
      "collapsed_sections": [
        "s7eGG4aS0mn0",
        "0Vx-1imIOsDK"
      ]
    },
    "kernelspec": {
      "name": "python3",
      "display_name": "Python 3"
    },
    "language_info": {
      "name": "python"
    }
  },
  "cells": [
    {
      "cell_type": "markdown",
      "source": [
        "## Задача\n",
        "\n",
        "- [x] Найти или сгенерировать набор данных для бинарной классификации графов.\n",
        "- [x] Реализовать функцию `shortest_path_kernel(train_graphs, test_graphs)`, которая принимает тренировочный и тестовые наборы, а возвращает пару `K_train, K_test`\n",
        "  - Опишите графы с помощью вектора из количества кратчайших путей различной длины\n",
        "  - Для вычисления длин кратчайших путей можно использовать `nx.shortest_path_length(G)`\n",
        "  - Ядровая функция для сравнения двух графов - скалярное произведение их двух векторов\n",
        "  - `K_train` - матрица из ядровых функций для сравнения тренировочных графов между собой\n",
        "  - `K_test` - матрица из ядровых функций для сравнения тестовых графов с тренировочными\n",
        "- [x] Используя реализованное ядро обучите модель SVC, подберите гиперпараметры, вычислите различные метрики качества\n",
        "- [x] (+5 баллов) Также реализовать Weisfeiler-Lehman Kernel и обучить классификатор с ним, сравнить результаты.\n",
        "\n",
        "\\\\\n",
        "\n",
        "---"
      ],
      "metadata": {
        "id": "NxQ5_RUVoJzN"
      }
    },
    {
      "cell_type": "markdown",
      "source": [
        "### Генерация\n",
        "\n",
        "Генерируем по 500 графов класса:\n",
        "\n",
        "- граф планарный (его можно нарисовать на плоскости без пересечений рёбер)\n",
        "- граф непланарный\n",
        "\n",
        "Количество нод - от 10 до 20 включительно"
      ],
      "metadata": {
        "id": "9TVnr3vTpueN"
      }
    },
    {
      "cell_type": "code",
      "source": [
        "import networkx as nx\n",
        "import random\n",
        "from sklearn.model_selection import train_test_split\n",
        "\n",
        "SEED = 42\n",
        "\n",
        "N_graphs = 500\n",
        "N_nodes = list(range(10, 20 + 1))\n",
        "\n",
        "def generate_planar_graph(n):\n",
        "    # Дерево (всегда планарно)\n",
        "    if random.random() < 0.5:\n",
        "        G = nx.random_labeled_tree(n)\n",
        "    # Планарный граф с циклами\n",
        "    else:\n",
        "        rows = int(n**0.5)\n",
        "        cols = (n + rows - 1) // rows\n",
        "        G = nx.grid_2d_graph(rows, cols)\n",
        "        G = nx.convert_node_labels_to_integers(G)\n",
        "        while G.number_of_nodes() > n:\n",
        "            G.remove_node(G.number_of_nodes() - 1)\n",
        "    return G\n",
        "\n",
        "def generate_non_planar_graph(n):\n",
        "    # Полный граф K5\n",
        "    if n >= 5 and random.random() < 0.5:\n",
        "        G = nx.complete_graph(5)\n",
        "        for i in range(5, n):\n",
        "            G.add_node(i)\n",
        "            parent = random.choice(list(G.nodes())[:i])\n",
        "            G.add_edge(i, parent)\n",
        "    # Полный двудольный граф K3,3\n",
        "    else:\n",
        "        G = nx.complete_bipartite_graph(3, 3)\n",
        "        for i in range(6, n):\n",
        "            G.add_node(i)\n",
        "            parent = random.choice(list(G.nodes())[:i])\n",
        "            G.add_edge(i, parent)\n",
        "    return G\n",
        "\n",
        "\n",
        "def generate_data(n_samples=N_graphs):\n",
        "    random.seed(SEED)\n",
        "    graphs = []\n",
        "    labels = []\n",
        "\n",
        "    for _ in range(n_samples):\n",
        "        label = random.choice([0, 1])\n",
        "        n_nodes = random.choice(N_nodes)\n",
        "        if label == 0:\n",
        "            # Генерируем планарный граф\n",
        "            G = generate_planar_graph(n_nodes)\n",
        "            # G = nx.generators.trees.random_unlabeled_tree(n_nodes, seed=SEED)\n",
        "        else:\n",
        "            # Генерируем непланарный граф\n",
        "            G = generate_non_planar_graph(n_nodes)\n",
        "            # G = nx.cycle_graph(n_nodes)\n",
        "\n",
        "        graphs.append(G)\n",
        "        labels.append(label)\n",
        "\n",
        "    return graphs, labels\n",
        "\n",
        "# Генерация данных\n",
        "graphs, labels = generate_data()\n",
        "X_train, X_test, y_train, y_test = train_test_split(graphs, labels, test_size=0.2, random_state=SEED)"
      ],
      "metadata": {
        "id": "W2yXqW4goLjp"
      },
      "execution_count": 117,
      "outputs": []
    },
    {
      "cell_type": "code",
      "source": [
        "print(len(X_train), len(X_test))"
      ],
      "metadata": {
        "colab": {
          "base_uri": "https://localhost:8080/"
        },
        "id": "OGNA7nb1xoJ0",
        "outputId": "908aac9f-2d58-41c8-8840-0ac212e266f7"
      },
      "execution_count": 118,
      "outputs": [
        {
          "output_type": "stream",
          "name": "stdout",
          "text": [
            "400 100\n"
          ]
        }
      ]
    },
    {
      "cell_type": "code",
      "source": [
        "import matplotlib.pyplot as plt\n",
        "\n",
        "def draw_graph(G, title):\n",
        "    pos = nx.spring_layout(G, seed=42)\n",
        "    plt.figure(figsize=(4, 4))\n",
        "    nx.draw(G, pos, node_color='blue', edge_color='gray', node_size=500)\n",
        "    plt.title(title)\n",
        "    plt.show()\n",
        "\n",
        "\n",
        "planar_iter = (graph for graph, label in zip(graphs, labels) if label == 0)\n",
        "non_plannar_iter = (graph for graph, label in zip(graphs, labels) if label == 1)\n",
        "\n",
        "graph = next(planar_iter)\n",
        "non_plannar_graph = next(non_plannar_iter)\n",
        "\n",
        "draw_graph(graph, title=\"Пример планарного графа\")\n",
        "draw_graph(non_plannar_graph, title=\"Пример непланарного графа\")\n"
      ],
      "metadata": {
        "colab": {
          "base_uri": "https://localhost:8080/",
          "height": 901
        },
        "id": "rIdcx06YJ8PD",
        "outputId": "9c8e34e1-5c6d-4f77-ffef-56f2da202618"
      },
      "execution_count": 119,
      "outputs": [
        {
          "output_type": "display_data",
          "data": {
            "text/plain": [
              "<Figure size 400x400 with 1 Axes>"
            ],
            "image/png": "[encoded data removed]"
          },
          "metadata": {}
        },
        {
          "output_type": "display_data",
          "data": {
            "text/plain": [
              "<Figure size 400x400 with 1 Axes>"
            ],
            "image/png": "[encoded data removed]"
          },
          "metadata": {}
        }
      ]
    },
    {
      "cell_type": "markdown",
      "source": [
        "## Shortest Path Kernel"
      ],
      "metadata": {
        "id": "s7eGG4aS0mn0"
      }
    },
    {
      "cell_type": "code",
      "source": [
        "import numpy as np\n",
        "from collections import defaultdict\n",
        "\n",
        "def shortest_path_kernel(train_graphs, test_graphs, max_paths = 10):\n",
        "    def graph_to_vector(G, max_path_length):\n",
        "        path_counts = defaultdict(int)\n",
        "        nodes = sorted(G.nodes())\n",
        "        lengths = dict(nx.shortest_path_length(G))\n",
        "\n",
        "        for source in lengths:\n",
        "          for target in lengths[source]:\n",
        "            if source < target:\n",
        "              d = lengths[source][target]\n",
        "              if d <= max_path_length:\n",
        "                path_counts[d] += 1\n",
        "\n",
        "        return np.array([path_counts.get(l, 0) for l in range(1, max_path_length + 1)])\n",
        "\n",
        "    train_vectors = np.array([graph_to_vector(G, max_paths) for G in train_graphs])\n",
        "    test_vectors = np.array([graph_to_vector(G, max_paths) for G in test_graphs])\n",
        "\n",
        "    K_train = train_vectors @ train_vectors.T\n",
        "    K_test = test_vectors @ train_vectors.T\n",
        "\n",
        "    return K_train, K_test\n"
      ],
      "metadata": {
        "id": "MyaNOcj01fui"
      },
      "execution_count": 120,
      "outputs": []
    },
    {
      "cell_type": "markdown",
      "source": [
        "## Weisfeiler-Lehman Kernel"
      ],
      "metadata": {
        "id": "0Vx-1imIOsDK"
      }
    },
    {
      "cell_type": "code",
      "source": [
        "from collections import Counter\n",
        "\n",
        "def wl_subtree_vector(G, h):\n",
        "    labels = {v: str(G.nodes[v].get(\"label\", G.degree(v))) for v in G.nodes}\n",
        "    features = Counter(labels.values())\n",
        "\n",
        "    for _ in range(h):\n",
        "        new_labels = {}\n",
        "        for v in G.nodes:\n",
        "            neigh_labels = sorted(labels[u] for u in G.neighbors(v))\n",
        "            new_label = labels[v] + \"|\" + \"|\".join(neigh_labels)\n",
        "            new_labels[v] = new_label\n",
        "        labels = new_labels\n",
        "        features.update(labels.values())\n",
        "\n",
        "    return features\n",
        "\n",
        "def wl_kernel(train_graphs, test_graphs, h=3):\n",
        "    train_features = [wl_subtree_vector(G, h) for G in train_graphs]\n",
        "    test_features = [wl_subtree_vector(G, h) for G in test_graphs]\n",
        "\n",
        "    vocab = {}\n",
        "    for feats in train_features + test_features:\n",
        "        for label in feats:\n",
        "            if label not in vocab:\n",
        "                vocab[label] = len(vocab)\n",
        "    dim = len(vocab)\n",
        "\n",
        "    def to_vector(feats):\n",
        "        vec = np.zeros(dim, dtype=np.float32)\n",
        "        for label, count in feats.items():\n",
        "            vec[vocab[label]] = count\n",
        "        return vec\n",
        "\n",
        "    train_vectors = np.array([to_vector(f) for f in train_features])\n",
        "    test_vectors = np.array([to_vector(f) for f in test_features])\n",
        "\n",
        "    K_train = train_vectors @ train_vectors.T\n",
        "    K_test = test_vectors @ train_vectors.T\n",
        "\n",
        "    return K_train, K_test"
      ],
      "metadata": {
        "id": "xqSxGLFnOuat"
      },
      "execution_count": 121,
      "outputs": []
    },
    {
      "cell_type": "markdown",
      "source": [
        "## Обучение и подбор параметров"
      ],
      "metadata": {
        "id": "26Hx6RNA-jHy"
      }
    },
    {
      "cell_type": "code",
      "source": [
        "from sklearn.metrics import (\n",
        "    accuracy_score,\n",
        "    f1_score,\n",
        "    precision_score,\n",
        "    recall_score,\n",
        ")\n",
        "\n",
        "from sklearn.svm import SVC\n",
        "from sklearn.model_selection import GridSearchCV\n",
        "from sklearn.model_selection import StratifiedKFold\n",
        "\n",
        "\n",
        "C_VALUES     = [0.05, 0.1, 1, 5, 10, 50]\n",
        "GAMMA_VALUES = [0.001, 0.01, 0.1, 1, 10]\n",
        "\n",
        "def create_and_fit_grid(param_grid, K_train, y_train):\n",
        "    svm = SVC(kernel='precomputed', probability=True, random_state=SEED)\n",
        "    cv = StratifiedKFold(n_splits=5, shuffle=True, random_state=SEED)\n",
        "\n",
        "    grid = GridSearchCV(\n",
        "      estimator=svm,\n",
        "      param_grid=param_grid,\n",
        "      cv = cv,\n",
        "      refit=True,\n",
        "      verbose=0,\n",
        "      return_train_score=False)\n",
        "\n",
        "    grid.fit(K_train, y_train)\n",
        "    return grid\n",
        "\n",
        "\n",
        "def score_print(grid, K_test, y_test, title):\n",
        "    print(f\"\\n{title}\\n\")\n",
        "    print(\"Best score: \", grid.best_score_)\n",
        "    print(\"Best param: \", grid.best_params_)\n",
        "\n",
        "    best_model = grid.best_estimator_\n",
        "    y_pred = best_model.predict(K_test)\n",
        "\n",
        "    print(\"\\nTest set performance:\")\n",
        "    print(\"Accuracy:\", accuracy_score(y_test, y_pred))\n",
        "    print(\"Precision:\", precision_score(y_test, y_pred))\n",
        "    print(\"Recall:\", recall_score(y_test, y_pred))\n",
        "    print(\"F1 score:\", f1_score(y_test, y_pred))\n",
        "\n",
        "\n",
        "K_short_train, K_short_test = shortest_path_kernel(X_train, X_test)\n",
        "\n",
        "K_wl_train, K_wl_test = wl_kernel(X_train, X_test)\n",
        "\n",
        "param_grid = {\"gamma\": GAMMA_VALUES, \"C\": C_VALUES, }\n"
      ],
      "metadata": {
        "id": "NKjzNdtuZuWV"
      },
      "execution_count": 122,
      "outputs": []
    },
    {
      "cell_type": "markdown",
      "source": [
        "### Подбор гиперпараметров для Shortest Path Kernel"
      ],
      "metadata": {
        "id": "cPnNKrVxdUzK"
      }
    },
    {
      "cell_type": "code",
      "source": [
        "grid_short = create_and_fit_grid(param_grid, K_short_train, y_train)\n",
        "\n",
        "score_print(grid_short, K_short_test, y_test, \"Shortest Path Kernel results\")"
      ],
      "metadata": {
        "colab": {
          "base_uri": "https://localhost:8080/"
        },
        "id": "S-WmOtaebtWm",
        "outputId": "d5152962-16fc-40d0-c723-bbe18ebbd5a7"
      },
      "execution_count": 123,
      "outputs": [
        {
          "output_type": "stream",
          "name": "stdout",
          "text": [
            "\n",
            "Shortest Path Kernel results\n",
            "\n",
            "Best score:  0.82\n",
            "Best param:  {'C': 5, 'gamma': 0.001}\n",
            "\n",
            "Test set performance:\n",
            "Accuracy: 0.77\n",
            "Precision: 0.8947368421052632\n",
            "Recall: 0.6415094339622641\n",
            "F1 score: 0.7472527472527473\n"
          ]
        }
      ]
    },
    {
      "cell_type": "markdown",
      "source": [
        "### Подбор гиперпараметров для Weisfeiler-Lehman Kernel"
      ],
      "metadata": {
        "id": "BSOMNDkQdZGM"
      }
    },
    {
      "cell_type": "code",
      "source": [
        "grid_short = create_and_fit_grid(param_grid, K_wl_train, y_train)\n",
        "\n",
        "score_print(grid_short, K_wl_test, y_test, \"Weisfeiler-Lehman Kernel results\")"
      ],
      "metadata": {
        "colab": {
          "base_uri": "https://localhost:8080/"
        },
        "id": "Os8gOF5KdaSg",
        "outputId": "71a62404-3fb3-46b4-a4a6-14e43485658c"
      },
      "execution_count": 124,
      "outputs": [
        {
          "output_type": "stream",
          "name": "stdout",
          "text": [
            "\n",
            "Weisfeiler-Lehman Kernel results\n",
            "\n",
            "Best score:  0.9974999999999999\n",
            "Best param:  {'C': 0.05, 'gamma': 0.001}\n",
            "\n",
            "Test set performance:\n",
            "Accuracy: 1.0\n",
            "Precision: 1.0\n",
            "Recall: 1.0\n",
            "F1 score: 1.0\n"
          ]
        }
      ]
    },
    {
      "cell_type": "markdown",
      "source": [
        "## Выводы"
      ],
      "metadata": {
        "id": "oR6vP0zqeJJc"
      }
    },
    {
      "cell_type": "markdown",
      "source": [
        "Weisfeiler-Lehman kernel демонстрирует высокую эффективность в задачах, где критически важна топологическая структура графов.\n",
        "\n",
        "Благодаря итеративному учёту контекста окрестностей вершин, оно способно улавливать тонкие структурные различия между графами. Это особенно заметно при классификации планарных и непланарных графов, где такие характерно сложные структуры, как K_5 и K_{3, 3}, лучше распознаются по сравнению с более простыми методами, такими как Shortest Path Kernel.\n",
        "\n",
        "Таким образом, Weisfeiler-Lehman kernel показывает явное преимущество в задачах, чувствительных к топологическим особенностям графа."
      ],
      "metadata": {
        "id": "_hpfDZIMeLOi"
      }
    }
  ]
}